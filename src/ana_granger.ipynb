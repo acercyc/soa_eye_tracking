{
 "cells": [
  {
   "cell_type": "code",
   "execution_count": 1,
   "metadata": {},
   "outputs": [],
   "source": [
    "import numpy as np\n",
    "import pandas as pd\n",
    "import matplotlib.pyplot as plt\n",
    "from utils import Data, Visualisation, Preprocessing\n",
    "import seaborn as sns\n",
    "from statsmodels.tsa.stattools import grangercausalitytests\n"
   ]
  },
  {
   "cell_type": "code",
   "execution_count": 3,
   "metadata": {},
   "outputs": [
    {
     "data": {
      "text/plain": [
       "Index(['TimeStamp', 'GazePointXLeft', 'GazePointYLeft', 'PupilLeft',\n",
       "       'ValidityLeft', 'GazePointXRight', 'GazePointYRight', 'PupilRight',\n",
       "       'ValidityRight', 'GazePointX', 'GazePointY'],\n",
       "      dtype='object')"
      ]
     },
     "execution_count": 3,
     "metadata": {},
     "output_type": "execute_result"
    }
   ],
   "source": [
    "Data.loadEyeData_epoched(1, 2)[0].keys()"
   ]
  },
  {
   "cell_type": "code",
   "execution_count": 13,
   "metadata": {},
   "outputs": [
    {
     "data": {
      "text/plain": [
       "(12000, 12000)"
      ]
     },
     "execution_count": 13,
     "metadata": {},
     "output_type": "execute_result"
    }
   ],
   "source": [
    "# data columns: ['TimeStamp', 'GazePointXLeft', 'GazePointYLeft', 'PupilLeft', 'ValidityLeft', 'GazePointXRight', 'GazePointYRight', 'PupilRight','ValidityRight', 'GazePointX', 'GazePointY']\n",
    "df = Data.loadEyeData_epoched(1, 2)[1]\n",
    "\n",
    "\n",
    "df_ = df.copy()\n",
    "\n",
    "delay = 3000\n",
    "\n",
    "# compute relative time based on the first timestamp\n",
    "df_['TimeRelative'] = df_['TimeStamp'] - df_['TimeStamp'].iloc[0]\n",
    "\n",
    "# filter out data with relative time less than delay\n",
    "df_ = df_[df_['TimeRelative'] > delay]\n",
    "df_.head()\n",
    "\n",
    "# make the origianl df the same length as the filtered df\n",
    "df = df.iloc[:len(df_)]\n",
    "\n",
    "len(df), len(df_)"
   ]
  },
  {
   "cell_type": "code",
   "execution_count": null,
   "metadata": {},
   "outputs": [],
   "source": []
  },
  {
   "cell_type": "code",
   "execution_count": 5,
   "metadata": {},
   "outputs": [
    {
     "data": {
      "text/plain": [
       "(array([   nan,    nan,    nan, ..., 0.0466, 0.0431, 0.042 ]),\n",
       " array([    nan,     nan,     nan, ..., -0.0934, -0.0883, -0.0898]))"
      ]
     },
     "execution_count": 5,
     "metadata": {},
     "output_type": "execute_result"
    }
   ],
   "source": [
    "x, y = Preprocessing.gaze_data2xy(Data.loadEyeData_epoched(1, 2)[0])"
   ]
  }
 ],
 "metadata": {
  "kernelspec": {
   "display_name": "py310",
   "language": "python",
   "name": "python3"
  },
  "language_info": {
   "codemirror_mode": {
    "name": "ipython",
    "version": 3
   },
   "file_extension": ".py",
   "mimetype": "text/x-python",
   "name": "python",
   "nbconvert_exporter": "python",
   "pygments_lexer": "ipython3",
   "version": "3.10.9"
  }
 },
 "nbformat": 4,
 "nbformat_minor": 2
}
